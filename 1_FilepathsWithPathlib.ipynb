{
 "cells": [
  {
   "cell_type": "code",
   "execution_count": 1,
   "metadata": {},
   "outputs": [],
   "source": [
    "from pathlib import Path"
   ]
  },
  {
   "cell_type": "markdown",
   "metadata": {},
   "source": [
    "# Working with File Paths\n",
    "\n",
    "There's a lot of information in a file path; it's more than just a string!  For example, in the following path we might want to learn the following:\n",
    "\n",
    "`C:\\\\Users\\Nick\\Documents\\Photos\\greece.jpg`, `../Desktop/Photos`, and `/usr/nickdg/desktop/data/mouse.ome.tif`\n",
    "\n",
    "  - Whether the path is an **absolute** path on the filesystem or is **relative** to the current working directory,\n",
    "  \n",
    "   - What drive the data is on,\n",
    "   \n",
    "   - What directory or directories the file is inside,\n",
    "   \n",
    "   - Whether a file or folder is listed,\n",
    "   \n",
    "   - What the file's name is ,\n",
    "   \n",
    "   - What the file's extension is,\n",
    "   \n",
    "   - Whether the file exists on our computer or not.\n",
    "   \n",
    "... and so on.  If we want to extract this data, we could do some fancy coding to figure it out from the string itself, but there's no need--the built-in `pathlib.Path` type has a lot of helper methods to get this information.\n"
   ]
  },
  {
   "cell_type": "markdown",
   "metadata": {},
   "source": [
    "## Dessecting File Paths into components using the PathLib package\n",
    "\n",
    "These methods are taken from the pathlib documentation: https://docs.python.org/3/library/pathlib.html\n",
    "\n",
    "`Path` Attributes:  Drive, Directory, Name, Extension, etc\n",
    "\n",
    "  - `Path.name`: Filename, without the directory\n",
    "  - `Path.stem`: Directory, without the Filename\n",
    "  - `Path.parent`: Parent Directory\n",
    "  - `Path.suffix`: File extension (str)\n",
    "  - `Path.suffixes`: List of File extensions (List of str)\n",
    "  - `Path.parts`: Split the path string into a list of string\n",
    "\n",
    "`Path` Methods: Transform one File Path into another\n",
    "\n",
    "   - `Path.with_name(\"new_name.txt\")`:  Make a new filename in the same directory\n",
    "   - `Path.with_suffix(\".tif\")`: Make a new filename except change the file extension\n",
    "   - `Path.is_absolute()`: Whether the path is an absolute filepath or not\n",
    "   - `Path.resolve()`:  Calculate the absolute Path from a relative Path\n",
    "   - `Path.exists()`: Whether the filepath exists on this computer or not\n",
    "   - `Path.is_dir()`: Whether the filepath is a directory or not\n",
    "   - `Path.is_file()`: Whether the filepath is a file or not\n"
   ]
  },
  {
   "cell_type": "markdown",
   "metadata": {},
   "source": [
    "**Exercises**\n",
    "\n",
    "Using the following Path, answer the questions below.\n",
    "\n",
    "*Note*: This file doesn't actually exist on your computer, it's just an example being used to show how the Path type works.\n",
    "\n",
    "*Hint*: All of the questions can be answered in a single line, using the methods listed above"
   ]
  },
  {
   "cell_type": "code",
   "execution_count": 17,
   "metadata": {},
   "outputs": [
    {
     "data": {
      "text/plain": [
       "WindowsPath('../Desktop/MyExperiment/data/nick_session1_day2.jpg')"
      ]
     },
     "execution_count": 17,
     "metadata": {},
     "output_type": "execute_result"
    }
   ],
   "source": [
    "path = Path(\"../Desktop/MyExperiment/data/nick_session1_day2.jpg\")\n",
    "path"
   ]
  },
  {
   "cell_type": "markdown",
   "metadata": {},
   "source": [
    "What directory is this file located in?"
   ]
  },
  {
   "cell_type": "code",
   "execution_count": null,
   "metadata": {},
   "outputs": [],
   "source": [
    "path = Path(\"../Desktop/MyExperiment/data/nick_session1_day2.jpg\")\n"
   ]
  },
  {
   "cell_type": "markdown",
   "metadata": {},
   "source": [
    "What is its filename (without the directory)?"
   ]
  },
  {
   "cell_type": "code",
   "execution_count": null,
   "metadata": {},
   "outputs": [],
   "source": [
    "path = Path(\"../Desktop/MyExperiment/data/nick_session1_day2.jpg\")\n"
   ]
  },
  {
   "cell_type": "markdown",
   "metadata": {},
   "source": [
    "What is the file's extension?"
   ]
  },
  {
   "cell_type": "code",
   "execution_count": null,
   "metadata": {},
   "outputs": [],
   "source": [
    "path = Path(\"../Desktop/MyExperiment/data/nick_session1_day2.jpg\")\n"
   ]
  },
  {
   "cell_type": "markdown",
   "metadata": {},
   "source": [
    "What is the filename (without the extension and without the directory)?"
   ]
  },
  {
   "cell_type": "code",
   "execution_count": null,
   "metadata": {},
   "outputs": [],
   "source": [
    "path = Path(\"../Desktop/MyExperiment/data/nick_session1_day2.jpg\")\n"
   ]
  },
  {
   "cell_type": "markdown",
   "metadata": {},
   "source": [
    "Does the path exist on your computer?"
   ]
  },
  {
   "cell_type": "code",
   "execution_count": null,
   "metadata": {},
   "outputs": [],
   "source": [
    "path = Path(\"../Desktop/MyExperiment/data/nick_session1_day2.jpg\")\n"
   ]
  },
  {
   "cell_type": "markdown",
   "metadata": {},
   "source": [
    "Change the path to one with a \".txt\" extension."
   ]
  },
  {
   "cell_type": "code",
   "execution_count": null,
   "metadata": {},
   "outputs": [],
   "source": [
    "path = Path(\"../Desktop/MyExperiment/data/nick_session1_day2.jpg\")\n"
   ]
  },
  {
   "cell_type": "markdown",
   "metadata": {},
   "source": [
    "Change the path to one with \"data2.jpg\" in the same directory"
   ]
  },
  {
   "cell_type": "code",
   "execution_count": null,
   "metadata": {},
   "outputs": [],
   "source": [
    "path = Path(\"../Desktop/MyExperiment/data/nick_session1_day2.jpg\")\n"
   ]
  },
  {
   "cell_type": "markdown",
   "metadata": {},
   "source": [
    "## Building Paths\n",
    "\n",
    "From scratch:\n",
    "\n",
    "```python\n",
    ">>> Path(\"home/data/data.txt\")\n",
    "Path(\"home/data/data.txt\")\n",
    "\n",
    ">>> Path(\"C://\").joinpath(\"home\").joinpath(\"nick\")\n",
    "Path(\"C://home/nick\")\n",
    "\n",
    ">>> Path(\"C://\").joinpath(\"home/nick\")\n",
    "Path(\"C://home/nick\")\n",
    "\n",
    ">>> Path(\"C://\") / \"home\" / \"nick\"`  \n",
    "Path(\"C://home/nick\")\n",
    "```\n",
    "\n",
    "From an existing directory:\n",
    "\n",
    "```python\n",
    ">>> Path.cwd()\n",
    "Path(\"C://home/nickdg/Desktop\")\n",
    "\n",
    "   \n",
    ">>> Path.home()\n",
    "Path(\"C://users/nickdg\")\n",
    "```\n",
    "\n",
    "And most valuable, finding files in an existing directory:\n",
    "\n",
    "```python\n",
    ">>> list(Path.home().iterdir())\n",
    "[ Path(\"C://users/nickdg/Documents\"),\n",
    "  Path(\"C://users/nickdg/Desktop\"),\n",
    "  Path(\"C://users/nickdg/Photos\"),\n",
    "  ...\n",
    "]\n",
    "\n",
    ">>> Path.home().glob(\"*.txt\")\n",
    "[ Path(\"C://users/nickdg/data1.txt\"),\n",
    "  Path(\"C://users/nickdg/data2.txt\"),\n",
    "  Path(\"C://users/nickdg/metadata.txt\"),\n",
    "]\n",
    "```\n",
    "\n",
    "   "
   ]
  },
  {
   "cell_type": "markdown",
   "metadata": {},
   "source": [
    "**Exercises**"
   ]
  },
  {
   "cell_type": "markdown",
   "metadata": {},
   "source": [
    "Using Pathlib, make a path concatenating this directory and filename"
   ]
  },
  {
   "cell_type": "code",
   "execution_count": 5,
   "metadata": {},
   "outputs": [],
   "source": [
    "folder = \"../project1/data/raw\"\n",
    "filename = \"image.jpg\"\n"
   ]
  },
  {
   "cell_type": "markdown",
   "metadata": {},
   "source": [
    "What is the path to your home directory?"
   ]
  },
  {
   "cell_type": "code",
   "execution_count": null,
   "metadata": {},
   "outputs": [],
   "source": []
  },
  {
   "cell_type": "markdown",
   "metadata": {},
   "source": [
    "What is the path to the current working directory?"
   ]
  },
  {
   "cell_type": "code",
   "execution_count": null,
   "metadata": {},
   "outputs": [],
   "source": []
  },
  {
   "cell_type": "markdown",
   "metadata": {},
   "source": [
    "How many files are on your desktop?"
   ]
  },
  {
   "cell_type": "code",
   "execution_count": null,
   "metadata": {},
   "outputs": [],
   "source": []
  },
  {
   "cell_type": "markdown",
   "metadata": {},
   "source": [
    "What are the names of the .py files in the current folder?"
   ]
  },
  {
   "cell_type": "code",
   "execution_count": null,
   "metadata": {},
   "outputs": [],
   "source": []
  },
  {
   "cell_type": "markdown",
   "metadata": {},
   "source": [
    "How many jypyter notebook files are in the current folder?"
   ]
  },
  {
   "cell_type": "markdown",
   "metadata": {},
   "source": []
  },
  {
   "cell_type": "markdown",
   "metadata": {},
   "source": [
    "## Making Paths Real\n",
    "\n",
    "### New (Empty) File Creation:  \n",
    "\n",
    "  - `Path(\"mypath.txt\").touch()`\n",
    "  - `Path(\"mypath.txt\").open(mode=\"w\")`\n",
    "  \n",
    "### New Folder Creation: \n",
    "\n",
    "  - `Path(\"myfolder\").mkdir()`\n",
    "  - `Path(\"myfolder\").mkdir(exist_ok=True)`\n",
    "  - `Path(\"myfolder1/myfolder2/myfolder3\").mkdir(parents=True)`\n",
    "   \n",
    "### Opening, Reading, Writing to a File:\n",
    "\n",
    "#### Text Data:\n",
    "\n",
    "  - `text = Path(\"myfile.txt\").read_text()`\n",
    "  - `text = Path(\"myfile.txt\").write_text()`\n",
    "  - `text = Path(\"myfile.txt\").open(mode=\"r\").read()`\n",
    "  - `Path(\"myfile.txt\").open(mode=\"w\").write(text)`\n",
    "\n",
    "#### Binary (raw bytes) Data:\n",
    "\n",
    "  - `raw = Path(\"myfile.dat\").read_bytes()`\n",
    "  - `raw = Path(\"myfile.data\").write_bytes()`\n",
    "  - `raw = Path(\"myfile.dat\").open(mode=\"rb\").read()`\n",
    "  - `Path(\"myfile.dat\").open(mode=\"wb\").write(raw)`\n",
    "  \n",
    "  \n",
    "  \n",
    "  "
   ]
  },
  {
   "cell_type": "markdown",
   "metadata": {},
   "source": [
    "**Exercises**"
   ]
  },
  {
   "cell_type": "markdown",
   "metadata": {},
   "source": [
    "Make a new folder called \"NewFolder\""
   ]
  },
  {
   "cell_type": "code",
   "execution_count": null,
   "metadata": {},
   "outputs": [],
   "source": []
  },
  {
   "cell_type": "markdown",
   "metadata": {},
   "source": [
    "Make a \"Hello Beautiful World\" text file: **hello.txt**."
   ]
  },
  {
   "cell_type": "code",
   "execution_count": null,
   "metadata": {},
   "outputs": [],
   "source": []
  },
  {
   "cell_type": "markdown",
   "metadata": {},
   "source": [
    "Make a \"Goodbye Cruel World\" text file: **bye.txt**, using a different method."
   ]
  },
  {
   "cell_type": "code",
   "execution_count": null,
   "metadata": {},
   "outputs": [],
   "source": []
  },
  {
   "cell_type": "markdown",
   "metadata": {},
   "source": [
    "Read from your hello file to a string variable and display the contents"
   ]
  },
  {
   "cell_type": "code",
   "execution_count": null,
   "metadata": {},
   "outputs": [],
   "source": []
  },
  {
   "cell_type": "markdown",
   "metadata": {},
   "source": [
    "Using a different method, read from your bye file to a string variable and display the contents."
   ]
  },
  {
   "cell_type": "code",
   "execution_count": null,
   "metadata": {},
   "outputs": [],
   "source": []
  }
 ],
 "metadata": {
  "kernelspec": {
   "display_name": "Python 3",
   "language": "python",
   "name": "python3"
  },
  "language_info": {
   "codemirror_mode": {
    "name": "ipython",
    "version": 3
   },
   "file_extension": ".py",
   "mimetype": "text/x-python",
   "name": "python",
   "nbconvert_exporter": "python",
   "pygments_lexer": "ipython3",
   "version": "3.8.8"
  },
  "metadata": {
   "interpreter": {
    "hash": "96aaef06ee4620efb4426efa9d33cf4f7340991f4df94558c663a28125b37508"
   }
  }
 },
 "nbformat": 4,
 "nbformat_minor": 4
}
